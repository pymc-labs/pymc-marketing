{
 "cells": [
  {
   "cell_type": "markdown",
   "metadata": {},
   "source": [
    "## Multinomial Choice Models and the Indepdence of Irrelevant Alternatives"
   ]
  },
  {
   "cell_type": "code",
   "execution_count": 1,
   "metadata": {},
   "outputs": [],
   "source": [
    "import arviz as az\n",
    "import pandas as pd\n",
    "\n",
    "%load_ext autoreload\n",
    "%autoreload 2\n",
    "import sys\n",
    "\n",
    "sys.path.append(\"../../../..\")\n",
    "\n",
    "from pymc_marketing.customer_choice.mnl_logit import MNLogit"
   ]
  },
  {
   "cell_type": "markdown",
   "metadata": {},
   "source": [
    "Discrete choice models are a class of statistical models used to analyze and predict choices made by individuals among a finite set of alternatives. The set of alternatives ussually represent a choice between \"products\" broadly construed.\n",
    "\n",
    "These models are grounded in utility maximization theory, where each option provides a certain level of utility to the decision-maker, and the option with the highest perceived utility is chosen. \n",
    "\n",
    "Discrete choice models are widely applied in fields like transportation, marketing, and health economics to understand behavior and inform policy or design. Common variants include the multinomial logit, nested logit, and mixed logit models, each capturing different aspects of choice behavior, such as similarity among alternatives or individual heterogeneity.\n",
    "In this notebook we will demonstrate how to specify the multinomial logit model and highlight a property of this model known as the Independence of Irrelevant Alternatives. \n",
    "\n",
    "### The Data\n",
    "\n",
    "We will examine a case of choices between heating systems. This data is drawn from an example in the R package `mlogit`. \n",
    "\n",
    "Note the data has been formatted in a \"wide\" fashion where each row represents a choice scenario characterised by (a) the chosen outcome `depvar`, (b) the product attributes: installation costs (`ic_x`) and operating costs (`oc_x`) and (c) fixed attributs of the agent making the choice e.g. the consumer's income and rooms. "
   ]
  },
  {
   "cell_type": "code",
   "execution_count": 2,
   "metadata": {},
   "outputs": [
    {
     "data": {
      "text/html": [
       "<div>\n",
       "<style scoped>\n",
       "    .dataframe tbody tr th:only-of-type {\n",
       "        vertical-align: middle;\n",
       "    }\n",
       "\n",
       "    .dataframe tbody tr th {\n",
       "        vertical-align: top;\n",
       "    }\n",
       "\n",
       "    .dataframe thead th {\n",
       "        text-align: right;\n",
       "    }\n",
       "</style>\n",
       "<table border=\"1\" class=\"dataframe\">\n",
       "  <thead>\n",
       "    <tr style=\"text-align: right;\">\n",
       "      <th></th>\n",
       "      <th>idcase</th>\n",
       "      <th>depvar</th>\n",
       "      <th>ic_gc</th>\n",
       "      <th>ic_gr</th>\n",
       "      <th>ic_ec</th>\n",
       "      <th>ic_er</th>\n",
       "      <th>ic_hp</th>\n",
       "      <th>oc_gc</th>\n",
       "      <th>oc_gr</th>\n",
       "      <th>oc_ec</th>\n",
       "      <th>oc_er</th>\n",
       "      <th>oc_hp</th>\n",
       "      <th>income</th>\n",
       "      <th>agehed</th>\n",
       "      <th>rooms</th>\n",
       "      <th>region</th>\n",
       "    </tr>\n",
       "  </thead>\n",
       "  <tbody>\n",
       "    <tr>\n",
       "      <th>0</th>\n",
       "      <td>1</td>\n",
       "      <td>gc</td>\n",
       "      <td>866.00</td>\n",
       "      <td>962.64</td>\n",
       "      <td>859.90</td>\n",
       "      <td>995.76</td>\n",
       "      <td>1135.50</td>\n",
       "      <td>199.69</td>\n",
       "      <td>151.72</td>\n",
       "      <td>553.34</td>\n",
       "      <td>505.60</td>\n",
       "      <td>237.88</td>\n",
       "      <td>7</td>\n",
       "      <td>25</td>\n",
       "      <td>6</td>\n",
       "      <td>ncostl</td>\n",
       "    </tr>\n",
       "    <tr>\n",
       "      <th>1</th>\n",
       "      <td>2</td>\n",
       "      <td>gc</td>\n",
       "      <td>727.93</td>\n",
       "      <td>758.89</td>\n",
       "      <td>796.82</td>\n",
       "      <td>894.69</td>\n",
       "      <td>968.90</td>\n",
       "      <td>168.66</td>\n",
       "      <td>168.66</td>\n",
       "      <td>520.24</td>\n",
       "      <td>486.49</td>\n",
       "      <td>199.19</td>\n",
       "      <td>5</td>\n",
       "      <td>60</td>\n",
       "      <td>5</td>\n",
       "      <td>scostl</td>\n",
       "    </tr>\n",
       "    <tr>\n",
       "      <th>2</th>\n",
       "      <td>3</td>\n",
       "      <td>gc</td>\n",
       "      <td>599.48</td>\n",
       "      <td>783.05</td>\n",
       "      <td>719.86</td>\n",
       "      <td>900.11</td>\n",
       "      <td>1048.30</td>\n",
       "      <td>165.58</td>\n",
       "      <td>137.80</td>\n",
       "      <td>439.06</td>\n",
       "      <td>404.74</td>\n",
       "      <td>171.47</td>\n",
       "      <td>4</td>\n",
       "      <td>65</td>\n",
       "      <td>2</td>\n",
       "      <td>ncostl</td>\n",
       "    </tr>\n",
       "    <tr>\n",
       "      <th>3</th>\n",
       "      <td>4</td>\n",
       "      <td>er</td>\n",
       "      <td>835.17</td>\n",
       "      <td>793.06</td>\n",
       "      <td>761.25</td>\n",
       "      <td>831.04</td>\n",
       "      <td>1048.70</td>\n",
       "      <td>180.88</td>\n",
       "      <td>147.14</td>\n",
       "      <td>483.00</td>\n",
       "      <td>425.22</td>\n",
       "      <td>222.95</td>\n",
       "      <td>2</td>\n",
       "      <td>50</td>\n",
       "      <td>4</td>\n",
       "      <td>scostl</td>\n",
       "    </tr>\n",
       "    <tr>\n",
       "      <th>4</th>\n",
       "      <td>5</td>\n",
       "      <td>er</td>\n",
       "      <td>755.59</td>\n",
       "      <td>846.29</td>\n",
       "      <td>858.86</td>\n",
       "      <td>985.64</td>\n",
       "      <td>883.05</td>\n",
       "      <td>174.91</td>\n",
       "      <td>138.90</td>\n",
       "      <td>404.41</td>\n",
       "      <td>389.52</td>\n",
       "      <td>178.49</td>\n",
       "      <td>2</td>\n",
       "      <td>25</td>\n",
       "      <td>6</td>\n",
       "      <td>valley</td>\n",
       "    </tr>\n",
       "    <tr>\n",
       "      <th>...</th>\n",
       "      <td>...</td>\n",
       "      <td>...</td>\n",
       "      <td>...</td>\n",
       "      <td>...</td>\n",
       "      <td>...</td>\n",
       "      <td>...</td>\n",
       "      <td>...</td>\n",
       "      <td>...</td>\n",
       "      <td>...</td>\n",
       "      <td>...</td>\n",
       "      <td>...</td>\n",
       "      <td>...</td>\n",
       "      <td>...</td>\n",
       "      <td>...</td>\n",
       "      <td>...</td>\n",
       "      <td>...</td>\n",
       "    </tr>\n",
       "    <tr>\n",
       "      <th>895</th>\n",
       "      <td>896</td>\n",
       "      <td>gc</td>\n",
       "      <td>766.39</td>\n",
       "      <td>877.71</td>\n",
       "      <td>751.59</td>\n",
       "      <td>869.78</td>\n",
       "      <td>942.70</td>\n",
       "      <td>142.61</td>\n",
       "      <td>136.21</td>\n",
       "      <td>474.48</td>\n",
       "      <td>420.65</td>\n",
       "      <td>203.00</td>\n",
       "      <td>6</td>\n",
       "      <td>20</td>\n",
       "      <td>4</td>\n",
       "      <td>mountn</td>\n",
       "    </tr>\n",
       "    <tr>\n",
       "      <th>896</th>\n",
       "      <td>897</td>\n",
       "      <td>gc</td>\n",
       "      <td>1128.50</td>\n",
       "      <td>1167.80</td>\n",
       "      <td>1047.60</td>\n",
       "      <td>1292.60</td>\n",
       "      <td>1297.10</td>\n",
       "      <td>207.40</td>\n",
       "      <td>213.77</td>\n",
       "      <td>705.36</td>\n",
       "      <td>551.61</td>\n",
       "      <td>243.76</td>\n",
       "      <td>7</td>\n",
       "      <td>45</td>\n",
       "      <td>7</td>\n",
       "      <td>scostl</td>\n",
       "    </tr>\n",
       "    <tr>\n",
       "      <th>897</th>\n",
       "      <td>898</td>\n",
       "      <td>gc</td>\n",
       "      <td>787.10</td>\n",
       "      <td>1055.20</td>\n",
       "      <td>842.79</td>\n",
       "      <td>1041.30</td>\n",
       "      <td>1064.80</td>\n",
       "      <td>175.05</td>\n",
       "      <td>141.63</td>\n",
       "      <td>478.86</td>\n",
       "      <td>448.61</td>\n",
       "      <td>254.51</td>\n",
       "      <td>5</td>\n",
       "      <td>60</td>\n",
       "      <td>7</td>\n",
       "      <td>scostl</td>\n",
       "    </tr>\n",
       "    <tr>\n",
       "      <th>898</th>\n",
       "      <td>899</td>\n",
       "      <td>gc</td>\n",
       "      <td>860.56</td>\n",
       "      <td>1081.30</td>\n",
       "      <td>799.76</td>\n",
       "      <td>1123.20</td>\n",
       "      <td>1218.20</td>\n",
       "      <td>211.04</td>\n",
       "      <td>151.31</td>\n",
       "      <td>495.20</td>\n",
       "      <td>401.56</td>\n",
       "      <td>246.48</td>\n",
       "      <td>5</td>\n",
       "      <td>50</td>\n",
       "      <td>6</td>\n",
       "      <td>scostl</td>\n",
       "    </tr>\n",
       "    <tr>\n",
       "      <th>899</th>\n",
       "      <td>900</td>\n",
       "      <td>gc</td>\n",
       "      <td>893.94</td>\n",
       "      <td>1119.90</td>\n",
       "      <td>967.88</td>\n",
       "      <td>1091.70</td>\n",
       "      <td>1387.50</td>\n",
       "      <td>175.80</td>\n",
       "      <td>180.11</td>\n",
       "      <td>518.68</td>\n",
       "      <td>458.53</td>\n",
       "      <td>245.13</td>\n",
       "      <td>2</td>\n",
       "      <td>65</td>\n",
       "      <td>4</td>\n",
       "      <td>ncostl</td>\n",
       "    </tr>\n",
       "  </tbody>\n",
       "</table>\n",
       "<p>900 rows × 16 columns</p>\n",
       "</div>"
      ],
      "text/plain": [
       "     idcase depvar    ic_gc    ic_gr    ic_ec    ic_er    ic_hp   oc_gc  \\\n",
       "0         1     gc   866.00   962.64   859.90   995.76  1135.50  199.69   \n",
       "1         2     gc   727.93   758.89   796.82   894.69   968.90  168.66   \n",
       "2         3     gc   599.48   783.05   719.86   900.11  1048.30  165.58   \n",
       "3         4     er   835.17   793.06   761.25   831.04  1048.70  180.88   \n",
       "4         5     er   755.59   846.29   858.86   985.64   883.05  174.91   \n",
       "..      ...    ...      ...      ...      ...      ...      ...     ...   \n",
       "895     896     gc   766.39   877.71   751.59   869.78   942.70  142.61   \n",
       "896     897     gc  1128.50  1167.80  1047.60  1292.60  1297.10  207.40   \n",
       "897     898     gc   787.10  1055.20   842.79  1041.30  1064.80  175.05   \n",
       "898     899     gc   860.56  1081.30   799.76  1123.20  1218.20  211.04   \n",
       "899     900     gc   893.94  1119.90   967.88  1091.70  1387.50  175.80   \n",
       "\n",
       "      oc_gr   oc_ec   oc_er   oc_hp  income  agehed  rooms  region  \n",
       "0    151.72  553.34  505.60  237.88       7      25      6  ncostl  \n",
       "1    168.66  520.24  486.49  199.19       5      60      5  scostl  \n",
       "2    137.80  439.06  404.74  171.47       4      65      2  ncostl  \n",
       "3    147.14  483.00  425.22  222.95       2      50      4  scostl  \n",
       "4    138.90  404.41  389.52  178.49       2      25      6  valley  \n",
       "..      ...     ...     ...     ...     ...     ...    ...     ...  \n",
       "895  136.21  474.48  420.65  203.00       6      20      4  mountn  \n",
       "896  213.77  705.36  551.61  243.76       7      45      7  scostl  \n",
       "897  141.63  478.86  448.61  254.51       5      60      7  scostl  \n",
       "898  151.31  495.20  401.56  246.48       5      50      6  scostl  \n",
       "899  180.11  518.68  458.53  245.13       2      65      4  ncostl  \n",
       "\n",
       "[900 rows x 16 columns]"
      ]
     },
     "execution_count": 2,
     "metadata": {},
     "output_type": "execute_result"
    }
   ],
   "source": [
    "df = pd.read_csv(\"../../../../data/choice_wide_heating.csv\")\n",
    "df"
   ]
  },
  {
   "cell_type": "markdown",
   "metadata": {},
   "source": [
    "### Utility Theory and Maximisation\n",
    "\n",
    "The general idea of these models is that an individuals’ choices among observed alternatives reflect the maximization of an underlying utility function. In this framework, each alternative in a choice set is associated with a latent utility composed of observable components (e.g., cost, travel time) and unobservable factors captured as random errors. Daniel McFadden formalized this approach using random utility models, including the multinomial logit model, which assumes that the unobserved components of utility follow an extreme value distribution. His models provided a rigorous econometric foundation for analyzing choice behavior from observed decisions, enabling estimation of how changes in attributes influence choice probabilities. This work earned McFadden the Nobel Prize in Economics in 2000 and has had lasting influence in transportation, marketing, and labor economics.\n",
    "\n",
    "To specify our multinomial logit model we therefore specify the form of the utility equations that might drive consumers to purchase particular goods amongst a choice set. Note how we distinguish each of the individual alternatives and the alternative-specific-covariates and the individual-specific-covariates by using the `|` notation. This is a variant of the standard Wilkinson stlye formula notation for specifying regression models. Under the hood we fit N regression models for each of the N goods. These regressions are used to generate a Utility score which is fed through a softmax transform to give us probabilities of each particular choice. The most probable choice should be the one with the greatest predicted utility. \n",
    "\n",
    "$$ \\begin{split} \\begin{pmatrix}\n",
    "u_{gc}   \\\\\n",
    "u_{gr}   \\\\\n",
    "u_{ec}   \\\\\n",
    "u_{er}   \\\\\n",
    "u_{hp}   \\\\\n",
    "\\end{pmatrix} =  \\begin{pmatrix}\n",
    "gc_{ic} & gc_{oc}  \\\\\n",
    "gr_{ic} & gr_{oc}  \\\\\n",
    "ec_{ic} & ec_{oc}  \\\\\n",
    "er_{ic} & er_{oc}  \\\\\n",
    "hp_{ic} & hp_{oc}  \\\\\n",
    "\\end{pmatrix} \\begin{pmatrix}\n",
    "\\beta_{ic}   \\\\\n",
    "\\beta_{oc}   \\\\\n",
    "\\end{pmatrix}  \\end{split}\n",
    "$$\n",
    "\n",
    "$$\\text{softmax}(u)_{j} = \\frac{\\exp(u_{j})}{\\sum_{q=1}^{J}\\exp(u_{q})}$$\n",
    "\n",
    "For more details on the background theory and varieties of utility specification see the PyMC example [here](https://www.pymc.io/projects/examples/en/latest/generalized_linear_models/GLM-discrete-choice_models.html)\n",
    "\n",
    "\n",
    "\n"
   ]
  },
  {
   "cell_type": "code",
   "execution_count": 3,
   "metadata": {},
   "outputs": [
    {
     "data": {
      "text/plain": [
       "<pymc_marketing.customer_choice.mnl_logit.MNLogit at 0x174ac4370>"
      ]
     },
     "execution_count": 3,
     "metadata": {},
     "output_type": "execute_result"
    }
   ],
   "source": [
    "utility_formulas = [\n",
    "    \"gc ~ ic_gc + oc_gc | income + rooms + agehed\",\n",
    "    \"gr ~ ic_gr + oc_gr | income + rooms + agehed\",\n",
    "    \"ec ~ ic_ec + oc_ec | income + rooms + agehed\",\n",
    "    \"er ~ ic_er + oc_er | income + rooms + agehed\",\n",
    "    \"hp ~ ic_hp + oc_hp | income + rooms + agehed\",\n",
    "]\n",
    "\n",
    "mnl = MNLogit(df, utility_formulas, \"depvar\", covariates=[\"ic\", \"oc\"])\n",
    "mnl"
   ]
  },
  {
   "cell_type": "markdown",
   "metadata": {},
   "source": [
    "Once we have initialised our model class we can estimate the model with the sample command"
   ]
  },
  {
   "cell_type": "code",
   "execution_count": 4,
   "metadata": {},
   "outputs": [
    {
     "name": "stderr",
     "output_type": "stream",
     "text": [
      "Sampling: [alphas_, betas, betas_fixed_, likelihood]\n",
      "Initializing NUTS using jitter+adapt_diag...\n",
      "Multiprocess sampling (4 chains in 4 jobs)\n",
      "NUTS: [alphas_, betas, betas_fixed_]\n"
     ]
    },
    {
     "data": {
      "application/vnd.jupyter.widget-view+json": {
       "model_id": "7d35a8f18efc404597f6c46e0bcc79d7",
       "version_major": 2,
       "version_minor": 0
      },
      "text/plain": [
       "Output()"
      ]
     },
     "metadata": {},
     "output_type": "display_data"
    },
    {
     "data": {
      "text/html": [
       "<pre style=\"white-space:pre;overflow-x:auto;line-height:normal;font-family:Menlo,'DejaVu Sans Mono',consolas,'Courier New',monospace\"></pre>\n"
      ],
      "text/plain": []
     },
     "metadata": {},
     "output_type": "display_data"
    },
    {
     "name": "stderr",
     "output_type": "stream",
     "text": [
      "Sampling 4 chains for 1_000 tune and 1_000 draw iterations (4_000 + 4_000 draws total) took 32 seconds.\n",
      "Sampling: [likelihood]\n"
     ]
    },
    {
     "data": {
      "application/vnd.jupyter.widget-view+json": {
       "model_id": "46124003e8b74b349e2cad39f4062a00",
       "version_major": 2,
       "version_minor": 0
      },
      "text/plain": [
       "Output()"
      ]
     },
     "metadata": {},
     "output_type": "display_data"
    },
    {
     "data": {
      "text/html": [
       "<pre style=\"white-space:pre;overflow-x:auto;line-height:normal;font-family:Menlo,'DejaVu Sans Mono',consolas,'Courier New',monospace\"></pre>\n"
      ],
      "text/plain": []
     },
     "metadata": {},
     "output_type": "display_data"
    },
    {
     "data": {
      "text/plain": [
       "<pymc_marketing.customer_choice.mnl_logit.MNLogit at 0x174ac4370>"
      ]
     },
     "execution_count": 4,
     "metadata": {},
     "output_type": "execute_result"
    }
   ],
   "source": [
    "mnl.sample()"
   ]
  },
  {
   "cell_type": "markdown",
   "metadata": {},
   "source": [
    "We can then access the fitted inference data object to inspect the posterior estimates for the model parameters of interest. "
   ]
  },
  {
   "cell_type": "code",
   "execution_count": 5,
   "metadata": {},
   "outputs": [
    {
     "name": "stderr",
     "output_type": "stream",
     "text": [
      "/Users/nathanielforde/mambaforge/envs/pymc-marketing-dev/lib/python3.10/site-packages/arviz/stats/diagnostics.py:596: RuntimeWarning: invalid value encountered in scalar divide\n",
      "  (between_chain_variance / within_chain_variance + num_samples - 1) / (num_samples)\n",
      "/Users/nathanielforde/mambaforge/envs/pymc-marketing-dev/lib/python3.10/site-packages/arviz/stats/diagnostics.py:991: RuntimeWarning: invalid value encountered in scalar divide\n",
      "  varsd = varvar / evar / 4\n",
      "/Users/nathanielforde/mambaforge/envs/pymc-marketing-dev/lib/python3.10/site-packages/arviz/stats/diagnostics.py:596: RuntimeWarning: invalid value encountered in scalar divide\n",
      "  (between_chain_variance / within_chain_variance + num_samples - 1) / (num_samples)\n",
      "/Users/nathanielforde/mambaforge/envs/pymc-marketing-dev/lib/python3.10/site-packages/arviz/stats/diagnostics.py:991: RuntimeWarning: invalid value encountered in scalar divide\n",
      "  varsd = varvar / evar / 4\n"
     ]
    },
    {
     "data": {
      "text/html": [
       "<div>\n",
       "<style scoped>\n",
       "    .dataframe tbody tr th:only-of-type {\n",
       "        vertical-align: middle;\n",
       "    }\n",
       "\n",
       "    .dataframe tbody tr th {\n",
       "        vertical-align: top;\n",
       "    }\n",
       "\n",
       "    .dataframe thead th {\n",
       "        text-align: right;\n",
       "    }\n",
       "</style>\n",
       "<table border=\"1\" class=\"dataframe\">\n",
       "  <thead>\n",
       "    <tr style=\"text-align: right;\">\n",
       "      <th></th>\n",
       "      <th>mean</th>\n",
       "      <th>sd</th>\n",
       "      <th>hdi_3%</th>\n",
       "      <th>hdi_97%</th>\n",
       "      <th>mcse_mean</th>\n",
       "      <th>mcse_sd</th>\n",
       "      <th>ess_bulk</th>\n",
       "      <th>ess_tail</th>\n",
       "      <th>r_hat</th>\n",
       "    </tr>\n",
       "  </thead>\n",
       "  <tbody>\n",
       "    <tr>\n",
       "      <th>alphas[gc]</th>\n",
       "      <td>1.358</td>\n",
       "      <td>0.721</td>\n",
       "      <td>0.009</td>\n",
       "      <td>2.734</td>\n",
       "      <td>0.021</td>\n",
       "      <td>0.012</td>\n",
       "      <td>1218.0</td>\n",
       "      <td>1699.0</td>\n",
       "      <td>1.0</td>\n",
       "    </tr>\n",
       "    <tr>\n",
       "      <th>alphas[gr]</th>\n",
       "      <td>0.321</td>\n",
       "      <td>0.800</td>\n",
       "      <td>-1.274</td>\n",
       "      <td>1.767</td>\n",
       "      <td>0.021</td>\n",
       "      <td>0.013</td>\n",
       "      <td>1388.0</td>\n",
       "      <td>2204.0</td>\n",
       "      <td>1.0</td>\n",
       "    </tr>\n",
       "    <tr>\n",
       "      <th>alphas[ec]</th>\n",
       "      <td>0.788</td>\n",
       "      <td>0.988</td>\n",
       "      <td>-1.128</td>\n",
       "      <td>2.623</td>\n",
       "      <td>0.024</td>\n",
       "      <td>0.016</td>\n",
       "      <td>1639.0</td>\n",
       "      <td>1960.0</td>\n",
       "      <td>1.0</td>\n",
       "    </tr>\n",
       "    <tr>\n",
       "      <th>alphas[er]</th>\n",
       "      <td>2.327</td>\n",
       "      <td>0.902</td>\n",
       "      <td>0.634</td>\n",
       "      <td>3.999</td>\n",
       "      <td>0.023</td>\n",
       "      <td>0.014</td>\n",
       "      <td>1477.0</td>\n",
       "      <td>1888.0</td>\n",
       "      <td>1.0</td>\n",
       "    </tr>\n",
       "    <tr>\n",
       "      <th>alphas[hp]</th>\n",
       "      <td>0.000</td>\n",
       "      <td>0.000</td>\n",
       "      <td>0.000</td>\n",
       "      <td>0.000</td>\n",
       "      <td>0.000</td>\n",
       "      <td>NaN</td>\n",
       "      <td>4000.0</td>\n",
       "      <td>4000.0</td>\n",
       "      <td>NaN</td>\n",
       "    </tr>\n",
       "    <tr>\n",
       "      <th>betas[ic]</th>\n",
       "      <td>-0.002</td>\n",
       "      <td>0.001</td>\n",
       "      <td>-0.003</td>\n",
       "      <td>-0.000</td>\n",
       "      <td>0.000</td>\n",
       "      <td>0.000</td>\n",
       "      <td>3707.0</td>\n",
       "      <td>2921.0</td>\n",
       "      <td>1.0</td>\n",
       "    </tr>\n",
       "    <tr>\n",
       "      <th>betas[oc]</th>\n",
       "      <td>-0.007</td>\n",
       "      <td>0.002</td>\n",
       "      <td>-0.010</td>\n",
       "      <td>-0.004</td>\n",
       "      <td>0.000</td>\n",
       "      <td>0.000</td>\n",
       "      <td>4046.0</td>\n",
       "      <td>2675.0</td>\n",
       "      <td>1.0</td>\n",
       "    </tr>\n",
       "    <tr>\n",
       "      <th>betas_fixed[gc, income]</th>\n",
       "      <td>-0.058</td>\n",
       "      <td>0.085</td>\n",
       "      <td>-0.223</td>\n",
       "      <td>0.095</td>\n",
       "      <td>0.002</td>\n",
       "      <td>0.001</td>\n",
       "      <td>1768.0</td>\n",
       "      <td>2490.0</td>\n",
       "      <td>1.0</td>\n",
       "    </tr>\n",
       "    <tr>\n",
       "      <th>betas_fixed[gc, rooms]</th>\n",
       "      <td>-0.002</td>\n",
       "      <td>0.084</td>\n",
       "      <td>-0.158</td>\n",
       "      <td>0.161</td>\n",
       "      <td>0.002</td>\n",
       "      <td>0.001</td>\n",
       "      <td>1613.0</td>\n",
       "      <td>2251.0</td>\n",
       "      <td>1.0</td>\n",
       "    </tr>\n",
       "    <tr>\n",
       "      <th>betas_fixed[gc, agehed]</th>\n",
       "      <td>0.016</td>\n",
       "      <td>0.011</td>\n",
       "      <td>-0.004</td>\n",
       "      <td>0.036</td>\n",
       "      <td>0.000</td>\n",
       "      <td>0.000</td>\n",
       "      <td>1227.0</td>\n",
       "      <td>2069.0</td>\n",
       "      <td>1.0</td>\n",
       "    </tr>\n",
       "    <tr>\n",
       "      <th>betas_fixed[gr, income]</th>\n",
       "      <td>-0.164</td>\n",
       "      <td>0.098</td>\n",
       "      <td>-0.356</td>\n",
       "      <td>0.013</td>\n",
       "      <td>0.002</td>\n",
       "      <td>0.001</td>\n",
       "      <td>1938.0</td>\n",
       "      <td>2593.0</td>\n",
       "      <td>1.0</td>\n",
       "    </tr>\n",
       "    <tr>\n",
       "      <th>betas_fixed[gr, rooms]</th>\n",
       "      <td>-0.015</td>\n",
       "      <td>0.095</td>\n",
       "      <td>-0.190</td>\n",
       "      <td>0.170</td>\n",
       "      <td>0.002</td>\n",
       "      <td>0.001</td>\n",
       "      <td>1747.0</td>\n",
       "      <td>2355.0</td>\n",
       "      <td>1.0</td>\n",
       "    </tr>\n",
       "    <tr>\n",
       "      <th>betas_fixed[gr, agehed]</th>\n",
       "      <td>0.020</td>\n",
       "      <td>0.012</td>\n",
       "      <td>-0.002</td>\n",
       "      <td>0.042</td>\n",
       "      <td>0.000</td>\n",
       "      <td>0.000</td>\n",
       "      <td>1358.0</td>\n",
       "      <td>2146.0</td>\n",
       "      <td>1.0</td>\n",
       "    </tr>\n",
       "    <tr>\n",
       "      <th>betas_fixed[ec, income]</th>\n",
       "      <td>-0.049</td>\n",
       "      <td>0.110</td>\n",
       "      <td>-0.251</td>\n",
       "      <td>0.159</td>\n",
       "      <td>0.002</td>\n",
       "      <td>0.002</td>\n",
       "      <td>2142.0</td>\n",
       "      <td>2759.0</td>\n",
       "      <td>1.0</td>\n",
       "    </tr>\n",
       "    <tr>\n",
       "      <th>betas_fixed[ec, rooms]</th>\n",
       "      <td>0.049</td>\n",
       "      <td>0.108</td>\n",
       "      <td>-0.164</td>\n",
       "      <td>0.243</td>\n",
       "      <td>0.002</td>\n",
       "      <td>0.002</td>\n",
       "      <td>2116.0</td>\n",
       "      <td>2810.0</td>\n",
       "      <td>1.0</td>\n",
       "    </tr>\n",
       "    <tr>\n",
       "      <th>betas_fixed[ec, agehed]</th>\n",
       "      <td>0.020</td>\n",
       "      <td>0.013</td>\n",
       "      <td>-0.004</td>\n",
       "      <td>0.045</td>\n",
       "      <td>0.000</td>\n",
       "      <td>0.000</td>\n",
       "      <td>1618.0</td>\n",
       "      <td>2780.0</td>\n",
       "      <td>1.0</td>\n",
       "    </tr>\n",
       "    <tr>\n",
       "      <th>betas_fixed[er, income]</th>\n",
       "      <td>-0.087</td>\n",
       "      <td>0.104</td>\n",
       "      <td>-0.281</td>\n",
       "      <td>0.105</td>\n",
       "      <td>0.002</td>\n",
       "      <td>0.001</td>\n",
       "      <td>2023.0</td>\n",
       "      <td>2798.0</td>\n",
       "      <td>1.0</td>\n",
       "    </tr>\n",
       "    <tr>\n",
       "      <th>betas_fixed[er, rooms]</th>\n",
       "      <td>0.029</td>\n",
       "      <td>0.101</td>\n",
       "      <td>-0.163</td>\n",
       "      <td>0.216</td>\n",
       "      <td>0.002</td>\n",
       "      <td>0.001</td>\n",
       "      <td>1898.0</td>\n",
       "      <td>2435.0</td>\n",
       "      <td>1.0</td>\n",
       "    </tr>\n",
       "    <tr>\n",
       "      <th>betas_fixed[er, agehed]</th>\n",
       "      <td>-0.005</td>\n",
       "      <td>0.013</td>\n",
       "      <td>-0.028</td>\n",
       "      <td>0.020</td>\n",
       "      <td>0.000</td>\n",
       "      <td>0.000</td>\n",
       "      <td>1393.0</td>\n",
       "      <td>2026.0</td>\n",
       "      <td>1.0</td>\n",
       "    </tr>\n",
       "    <tr>\n",
       "      <th>betas_fixed[hp, income]</th>\n",
       "      <td>0.000</td>\n",
       "      <td>0.000</td>\n",
       "      <td>0.000</td>\n",
       "      <td>0.000</td>\n",
       "      <td>0.000</td>\n",
       "      <td>NaN</td>\n",
       "      <td>4000.0</td>\n",
       "      <td>4000.0</td>\n",
       "      <td>NaN</td>\n",
       "    </tr>\n",
       "    <tr>\n",
       "      <th>betas_fixed[hp, rooms]</th>\n",
       "      <td>0.000</td>\n",
       "      <td>0.000</td>\n",
       "      <td>0.000</td>\n",
       "      <td>0.000</td>\n",
       "      <td>0.000</td>\n",
       "      <td>NaN</td>\n",
       "      <td>4000.0</td>\n",
       "      <td>4000.0</td>\n",
       "      <td>NaN</td>\n",
       "    </tr>\n",
       "    <tr>\n",
       "      <th>betas_fixed[hp, agehed]</th>\n",
       "      <td>0.000</td>\n",
       "      <td>0.000</td>\n",
       "      <td>0.000</td>\n",
       "      <td>0.000</td>\n",
       "      <td>0.000</td>\n",
       "      <td>NaN</td>\n",
       "      <td>4000.0</td>\n",
       "      <td>4000.0</td>\n",
       "      <td>NaN</td>\n",
       "    </tr>\n",
       "  </tbody>\n",
       "</table>\n",
       "</div>"
      ],
      "text/plain": [
       "                          mean     sd  hdi_3%  hdi_97%  mcse_mean  mcse_sd  \\\n",
       "alphas[gc]               1.358  0.721   0.009    2.734      0.021    0.012   \n",
       "alphas[gr]               0.321  0.800  -1.274    1.767      0.021    0.013   \n",
       "alphas[ec]               0.788  0.988  -1.128    2.623      0.024    0.016   \n",
       "alphas[er]               2.327  0.902   0.634    3.999      0.023    0.014   \n",
       "alphas[hp]               0.000  0.000   0.000    0.000      0.000      NaN   \n",
       "betas[ic]               -0.002  0.001  -0.003   -0.000      0.000    0.000   \n",
       "betas[oc]               -0.007  0.002  -0.010   -0.004      0.000    0.000   \n",
       "betas_fixed[gc, income] -0.058  0.085  -0.223    0.095      0.002    0.001   \n",
       "betas_fixed[gc, rooms]  -0.002  0.084  -0.158    0.161      0.002    0.001   \n",
       "betas_fixed[gc, agehed]  0.016  0.011  -0.004    0.036      0.000    0.000   \n",
       "betas_fixed[gr, income] -0.164  0.098  -0.356    0.013      0.002    0.001   \n",
       "betas_fixed[gr, rooms]  -0.015  0.095  -0.190    0.170      0.002    0.001   \n",
       "betas_fixed[gr, agehed]  0.020  0.012  -0.002    0.042      0.000    0.000   \n",
       "betas_fixed[ec, income] -0.049  0.110  -0.251    0.159      0.002    0.002   \n",
       "betas_fixed[ec, rooms]   0.049  0.108  -0.164    0.243      0.002    0.002   \n",
       "betas_fixed[ec, agehed]  0.020  0.013  -0.004    0.045      0.000    0.000   \n",
       "betas_fixed[er, income] -0.087  0.104  -0.281    0.105      0.002    0.001   \n",
       "betas_fixed[er, rooms]   0.029  0.101  -0.163    0.216      0.002    0.001   \n",
       "betas_fixed[er, agehed] -0.005  0.013  -0.028    0.020      0.000    0.000   \n",
       "betas_fixed[hp, income]  0.000  0.000   0.000    0.000      0.000      NaN   \n",
       "betas_fixed[hp, rooms]   0.000  0.000   0.000    0.000      0.000      NaN   \n",
       "betas_fixed[hp, agehed]  0.000  0.000   0.000    0.000      0.000      NaN   \n",
       "\n",
       "                         ess_bulk  ess_tail  r_hat  \n",
       "alphas[gc]                 1218.0    1699.0    1.0  \n",
       "alphas[gr]                 1388.0    2204.0    1.0  \n",
       "alphas[ec]                 1639.0    1960.0    1.0  \n",
       "alphas[er]                 1477.0    1888.0    1.0  \n",
       "alphas[hp]                 4000.0    4000.0    NaN  \n",
       "betas[ic]                  3707.0    2921.0    1.0  \n",
       "betas[oc]                  4046.0    2675.0    1.0  \n",
       "betas_fixed[gc, income]    1768.0    2490.0    1.0  \n",
       "betas_fixed[gc, rooms]     1613.0    2251.0    1.0  \n",
       "betas_fixed[gc, agehed]    1227.0    2069.0    1.0  \n",
       "betas_fixed[gr, income]    1938.0    2593.0    1.0  \n",
       "betas_fixed[gr, rooms]     1747.0    2355.0    1.0  \n",
       "betas_fixed[gr, agehed]    1358.0    2146.0    1.0  \n",
       "betas_fixed[ec, income]    2142.0    2759.0    1.0  \n",
       "betas_fixed[ec, rooms]     2116.0    2810.0    1.0  \n",
       "betas_fixed[ec, agehed]    1618.0    2780.0    1.0  \n",
       "betas_fixed[er, income]    2023.0    2798.0    1.0  \n",
       "betas_fixed[er, rooms]     1898.0    2435.0    1.0  \n",
       "betas_fixed[er, agehed]    1393.0    2026.0    1.0  \n",
       "betas_fixed[hp, income]    4000.0    4000.0    NaN  \n",
       "betas_fixed[hp, rooms]     4000.0    4000.0    NaN  \n",
       "betas_fixed[hp, agehed]    4000.0    4000.0    NaN  "
      ]
     },
     "execution_count": 5,
     "metadata": {},
     "output_type": "execute_result"
    }
   ],
   "source": [
    "az.summary(mnl.idata, var_names=[\"alphas\", \"betas\", \"betas_fixed\"])"
   ]
  },
  {
   "cell_type": "markdown",
   "metadata": {},
   "source": [
    "Note here how the beta coefficients attaching to the installation and operating costs are negative implying that unit increases in cost drive a **decrease** in latent subjective utility across the consumer base. It's this kind of behaviourial insight about the attributes of each product that these models are intended to uncover. \n",
    "\n",
    "However, some care must be taken in the interpretation of the parameters in these models. Fundamentally discrete choice models are species of causal-inference model where we aim to not merely make inferences about relations in data but make claims about the causal effects of changes in product attributes e.g. how does the market respond to price changes? The criteria of adequacy of a discrete choice model is keyed to how plausible they are as guides to future action and action under counterfactual settings. "
   ]
  },
  {
   "cell_type": "markdown",
   "metadata": {},
   "source": [
    "### New Pricing Intervention\n",
    "\n",
    "Consider the following intervention? How might the consumer popoulation respond to a price intervention which targets a particular market segment? We can fit the multinomial logit model as before under a pricing intervention. "
   ]
  },
  {
   "cell_type": "code",
   "execution_count": 6,
   "metadata": {},
   "outputs": [
    {
     "name": "stderr",
     "output_type": "stream",
     "text": [
      "Sampling: [likelihood]\n"
     ]
    },
    {
     "data": {
      "application/vnd.jupyter.widget-view+json": {
       "model_id": "9d9d126585fd4967a686f4c9e00b053e",
       "version_major": 2,
       "version_minor": 0
      },
      "text/plain": [
       "Output()"
      ]
     },
     "metadata": {},
     "output_type": "display_data"
    },
    {
     "data": {
      "text/html": [
       "<pre style=\"white-space:pre;overflow-x:auto;line-height:normal;font-family:Menlo,'DejaVu Sans Mono',consolas,'Courier New',monospace\"></pre>\n"
      ],
      "text/plain": []
     },
     "metadata": {},
     "output_type": "display_data"
    }
   ],
   "source": [
    "new_policy_df = df.copy()\n",
    "new_policy_df[[\"ic_ec\", \"ic_er\"]] = new_policy_df[[\"ic_ec\", \"ic_er\"]] * 1.5\n",
    "\n",
    "idata_new_policy = mnl.apply_intervention(new_choice_df=new_policy_df)"
   ]
  },
  {
   "cell_type": "markdown",
   "metadata": {},
   "source": [
    "Then we can inspect how the market share allocated to each of the products is updated after this pricing intervention. On the one hand it makes sense to see a drop in demand for the electrical heating systems which just saw a price increase. However, we can also note a curious fact about the share allocation for the three remaining goods. Each of the goods absorbs an equal 0.08 lift in their market share. This is not a fluke. \n",
    "\n",
    "The observation stems from IIA property of the multinomial logit model. Under counterfactual interventions market changes lead to somewhat counter intuitive patterns of market substitution. The remaining goods on the market exhibit proportional substitution, where all remaining choices \"compete\" equally. This is often a quite implausible assumption about market behaviour because it fails to respect properties of market structure or preference. In our case we may wonder if consumers inclined towards electrical heating systems would all equally flock to gas systems of if their is an inherent market bias among that consumer base towards the more eco-friendly heat pump systems?"
   ]
  },
  {
   "cell_type": "code",
   "execution_count": 7,
   "metadata": {},
   "outputs": [
    {
     "data": {
      "text/html": [
       "<div>\n",
       "<style scoped>\n",
       "    .dataframe tbody tr th:only-of-type {\n",
       "        vertical-align: middle;\n",
       "    }\n",
       "\n",
       "    .dataframe tbody tr th {\n",
       "        vertical-align: top;\n",
       "    }\n",
       "\n",
       "    .dataframe thead th {\n",
       "        text-align: right;\n",
       "    }\n",
       "</style>\n",
       "<table border=\"1\" class=\"dataframe\">\n",
       "  <thead>\n",
       "    <tr style=\"text-align: right;\">\n",
       "      <th></th>\n",
       "      <th>policy_share</th>\n",
       "      <th>new_policy_share</th>\n",
       "      <th>relative_change</th>\n",
       "    </tr>\n",
       "    <tr>\n",
       "      <th>product</th>\n",
       "      <th></th>\n",
       "      <th></th>\n",
       "      <th></th>\n",
       "    </tr>\n",
       "  </thead>\n",
       "  <tbody>\n",
       "    <tr>\n",
       "      <th>gc</th>\n",
       "      <td>0.636607</td>\n",
       "      <td>0.690164</td>\n",
       "      <td>0.084128</td>\n",
       "    </tr>\n",
       "    <tr>\n",
       "      <th>gr</th>\n",
       "      <td>0.143281</td>\n",
       "      <td>0.155395</td>\n",
       "      <td>0.084546</td>\n",
       "    </tr>\n",
       "    <tr>\n",
       "      <th>ec</th>\n",
       "      <td>0.070968</td>\n",
       "      <td>0.042833</td>\n",
       "      <td>-0.396442</td>\n",
       "    </tr>\n",
       "    <tr>\n",
       "      <th>er</th>\n",
       "      <td>0.093321</td>\n",
       "      <td>0.050839</td>\n",
       "      <td>-0.455223</td>\n",
       "    </tr>\n",
       "    <tr>\n",
       "      <th>hp</th>\n",
       "      <td>0.055823</td>\n",
       "      <td>0.060769</td>\n",
       "      <td>0.088600</td>\n",
       "    </tr>\n",
       "  </tbody>\n",
       "</table>\n",
       "</div>"
      ],
      "text/plain": [
       "         policy_share  new_policy_share  relative_change\n",
       "product                                                 \n",
       "gc           0.636607          0.690164         0.084128\n",
       "gr           0.143281          0.155395         0.084546\n",
       "ec           0.070968          0.042833        -0.396442\n",
       "er           0.093321          0.050839        -0.455223\n",
       "hp           0.055823          0.060769         0.088600"
      ]
     },
     "execution_count": 7,
     "metadata": {},
     "output_type": "execute_result"
    }
   ],
   "source": [
    "change_df = mnl.calculate_share_change(mnl.idata, mnl.intervention_idata)\n",
    "change_df"
   ]
  },
  {
   "cell_type": "code",
   "execution_count": 8,
   "metadata": {},
   "outputs": [
    {
     "data": {
      "image/png": "[encoded data removed]",
      "text/plain": [
       "<Figure size 2000x800 with 1 Axes>"
      ]
     },
     "metadata": {},
     "output_type": "display_data"
    }
   ],
   "source": [
    "fig = mnl.make_change_plot(change_df, figsize=(20, 8))"
   ]
  },
  {
   "cell_type": "markdown",
   "metadata": {},
   "source": [
    "The idea of structural preference or non-proportional substitution patterns simply cannot be accounted for with the multinomial logit model. This is occasionally called the Red-Bus, Blue Bus [paradox](https://www.youtube.com/watch?v=eciarlAhX6k) because the model property implies that even in a transport market with a 50% between a car and bus. If we introduce another bus similar in all respects to the original, then the new market is split equally between the three goods yielding a 33% share for each. This seems wrong because a new bus should only cannibalise market share from the bus consumers. \n",
    "\n",
    "Let's see how this pattern plays out in our example. We can remove a product as follows and re-estimate our multinomial logit. "
   ]
  },
  {
   "cell_type": "markdown",
   "metadata": {},
   "source": [
    "### Market Product Intervention\n"
   ]
  },
  {
   "cell_type": "code",
   "execution_count": 9,
   "metadata": {},
   "outputs": [
    {
     "name": "stderr",
     "output_type": "stream",
     "text": [
      "Sampling: [alphas_, betas, betas_fixed_, likelihood]\n",
      "Initializing NUTS using jitter+adapt_diag...\n",
      "Multiprocess sampling (4 chains in 4 jobs)\n",
      "NUTS: [alphas_, betas, betas_fixed_]\n"
     ]
    },
    {
     "data": {
      "application/vnd.jupyter.widget-view+json": {
       "model_id": "df562dcb70b74627b756b28821174d69",
       "version_major": 2,
       "version_minor": 0
      },
      "text/plain": [
       "Output()"
      ]
     },
     "metadata": {},
     "output_type": "display_data"
    },
    {
     "data": {
      "text/html": [
       "<pre style=\"white-space:pre;overflow-x:auto;line-height:normal;font-family:Menlo,'DejaVu Sans Mono',consolas,'Courier New',monospace\"></pre>\n"
      ],
      "text/plain": []
     },
     "metadata": {},
     "output_type": "display_data"
    },
    {
     "name": "stderr",
     "output_type": "stream",
     "text": [
      "Sampling 4 chains for 2_000 tune and 1_000 draw iterations (8_000 + 4_000 draws total) took 100 seconds.\n",
      "Sampling: [likelihood]\n"
     ]
    },
    {
     "data": {
      "application/vnd.jupyter.widget-view+json": {
       "model_id": "437ab097d4b1460686143957bbe1f8e9",
       "version_major": 2,
       "version_minor": 0
      },
      "text/plain": [
       "Output()"
      ]
     },
     "metadata": {},
     "output_type": "display_data"
    },
    {
     "data": {
      "text/html": [
       "<pre style=\"white-space:pre;overflow-x:auto;line-height:normal;font-family:Menlo,'DejaVu Sans Mono',consolas,'Courier New',monospace\"></pre>\n"
      ],
      "text/plain": []
     },
     "metadata": {},
     "output_type": "display_data"
    }
   ],
   "source": [
    "new_policy_df = df.copy()\n",
    "new_policy_df = new_policy_df[new_policy_df[\"depvar\"] != \"hp\"]\n",
    "\n",
    "new_utility_formulas = [\n",
    "    \"gc ~ ic_gc + oc_gc | income + rooms + agehed\",\n",
    "    \"gr ~ ic_gr + oc_gr | income + rooms + agehed\",\n",
    "    \"ec ~ ic_ec + oc_ec | income + rooms + agehed\",\n",
    "    \"er ~ ic_er + oc_er | income + rooms + agehed\",\n",
    "    #'hp ~ ic_hp + oc_hp | income + rooms + agehed'\n",
    "]\n",
    "\n",
    "idata_new_policy = mnl.apply_intervention(\n",
    "    new_choice_df=new_policy_df, new_utility_equations=new_utility_formulas\n",
    ")"
   ]
  },
  {
   "cell_type": "markdown",
   "metadata": {},
   "source": [
    "Here agains we see a basically proportional re-allocation where the market demand is re-allocated equally across the remaining goods. "
   ]
  },
  {
   "cell_type": "code",
   "execution_count": 10,
   "metadata": {},
   "outputs": [
    {
     "data": {
      "text/html": [
       "<div>\n",
       "<style scoped>\n",
       "    .dataframe tbody tr th:only-of-type {\n",
       "        vertical-align: middle;\n",
       "    }\n",
       "\n",
       "    .dataframe tbody tr th {\n",
       "        vertical-align: top;\n",
       "    }\n",
       "\n",
       "    .dataframe thead th {\n",
       "        text-align: right;\n",
       "    }\n",
       "</style>\n",
       "<table border=\"1\" class=\"dataframe\">\n",
       "  <thead>\n",
       "    <tr style=\"text-align: right;\">\n",
       "      <th></th>\n",
       "      <th>policy_share</th>\n",
       "      <th>new_policy_share</th>\n",
       "      <th>relative_change</th>\n",
       "    </tr>\n",
       "    <tr>\n",
       "      <th>product</th>\n",
       "      <th></th>\n",
       "      <th></th>\n",
       "      <th></th>\n",
       "    </tr>\n",
       "  </thead>\n",
       "  <tbody>\n",
       "    <tr>\n",
       "      <th>gc</th>\n",
       "      <td>0.636607</td>\n",
       "      <td>0.674460</td>\n",
       "      <td>0.059460</td>\n",
       "    </tr>\n",
       "    <tr>\n",
       "      <th>gr</th>\n",
       "      <td>0.143281</td>\n",
       "      <td>0.151770</td>\n",
       "      <td>0.059252</td>\n",
       "    </tr>\n",
       "    <tr>\n",
       "      <th>ec</th>\n",
       "      <td>0.070968</td>\n",
       "      <td>0.075343</td>\n",
       "      <td>0.061644</td>\n",
       "    </tr>\n",
       "    <tr>\n",
       "      <th>er</th>\n",
       "      <td>0.093321</td>\n",
       "      <td>0.098427</td>\n",
       "      <td>0.054715</td>\n",
       "    </tr>\n",
       "    <tr>\n",
       "      <th>hp</th>\n",
       "      <td>0.055823</td>\n",
       "      <td>0.000000</td>\n",
       "      <td>-1.000000</td>\n",
       "    </tr>\n",
       "  </tbody>\n",
       "</table>\n",
       "</div>"
      ],
      "text/plain": [
       "         policy_share  new_policy_share  relative_change\n",
       "product                                                 \n",
       "gc           0.636607          0.674460         0.059460\n",
       "gr           0.143281          0.151770         0.059252\n",
       "ec           0.070968          0.075343         0.061644\n",
       "er           0.093321          0.098427         0.054715\n",
       "hp           0.055823          0.000000        -1.000000"
      ]
     },
     "execution_count": 10,
     "metadata": {},
     "output_type": "execute_result"
    }
   ],
   "source": [
    "change_df = mnl.calculate_share_change(mnl.idata, mnl.intervention_idata)\n",
    "change_df"
   ]
  },
  {
   "cell_type": "code",
   "execution_count": 11,
   "metadata": {},
   "outputs": [
    {
     "data": {
      "image/png": "[encoded data removed]",
      "text/plain": [
       "<Figure size 2000x800 with 1 Axes>"
      ]
     },
     "metadata": {},
     "output_type": "display_data"
    }
   ],
   "source": [
    "fig = mnl.make_change_plot(change_df, title=\"Product Removal\", figsize=(20, 8))"
   ]
  },
  {
   "cell_type": "markdown",
   "metadata": {},
   "source": [
    "### Counterfactual Plausibility as a Criteria of Adequacy\n",
    "\n",
    "Kenneth Train observes that \n",
    "\n",
    "> \"[The IIA] property can be seen either as a restriction imposed by the model or as the natural outcome of a wellspecified model that captures all sources of correlation over alternatives into representative utility, so that only white noise remains. Often the researcher is unable to capture all sources of correlation explicitly, so\n",
    "that the unobserved portions of utility are correlated and IIA does not hold.\" - pg 76 in \"Discrete Choice Methods with Simulation\"\n",
    "\n",
    "which suggests that the Multinomial Logit model can have a compelling role in markets where the structure of the preferences aren't governed by anything we haven't included in the utility equations. But given the difficulty of such a comprehensive model specification we might want to seek alternative model specifications that can support more plausible counterfactual inference about the patterns of market substitution under intervention. One such model specification is the nested logit model. "
   ]
  }
 ],
 "metadata": {
  "kernelspec": {
   "display_name": "pymc-marketing-dev",
   "language": "python",
   "name": "python3"
  },
  "language_info": {
   "codemirror_mode": {
    "name": "ipython",
    "version": 3
   },
   "file_extension": ".py",
   "mimetype": "text/x-python",
   "name": "python",
   "nbconvert_exporter": "python",
   "pygments_lexer": "ipython3",
   "version": "3.10.17"
  }
 },
 "nbformat": 4,
 "nbformat_minor": 2
}
